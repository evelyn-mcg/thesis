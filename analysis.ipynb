{
 "cells": [
  {
   "cell_type": "code",
   "execution_count": 1,
   "metadata": {},
   "outputs": [],
   "source": [
    "import pandas as pd\n",
    "import numpy as np\n",
    "\n",
    "import fasttext\n",
    "import sklearn"
   ]
  },
  {
   "cell_type": "code",
   "execution_count": 2,
   "metadata": {},
   "outputs": [],
   "source": [
    "from sklearn.preprocessing import normalize\n",
    "from scipy.linalg import orthogonal_procrustes\n",
    "from scipy.spatial.distance import cosine"
   ]
  },
  {
   "cell_type": "code",
   "execution_count": 3,
   "metadata": {},
   "outputs": [
    {
     "data": {
      "text/html": [
       "<div>\n",
       "<style scoped>\n",
       "    .dataframe tbody tr th:only-of-type {\n",
       "        vertical-align: middle;\n",
       "    }\n",
       "\n",
       "    .dataframe tbody tr th {\n",
       "        vertical-align: top;\n",
       "    }\n",
       "\n",
       "    .dataframe thead th {\n",
       "        text-align: right;\n",
       "    }\n",
       "</style>\n",
       "<table border=\"1\" class=\"dataframe\">\n",
       "  <thead>\n",
       "    <tr style=\"text-align: right;\">\n",
       "      <th></th>\n",
       "      <th>Unnamed: 0</th>\n",
       "      <th>author</th>\n",
       "      <th>out_sent</th>\n",
       "    </tr>\n",
       "  </thead>\n",
       "  <tbody>\n",
       "    <tr>\n",
       "      <th>0</th>\n",
       "      <td>0</td>\n",
       "      <td>[deleted]</td>\n",
       "      <td>['republican', 'house', 'oversight', 'committe...</td>\n",
       "    </tr>\n",
       "    <tr>\n",
       "      <th>1</th>\n",
       "      <td>1</td>\n",
       "      <td>DownToeartgh</td>\n",
       "      <td>['cbs', 'news', 'asked', 'kevin', 'mccarthy', ...</td>\n",
       "    </tr>\n",
       "    <tr>\n",
       "      <th>2</th>\n",
       "      <td>2</td>\n",
       "      <td>shallah</td>\n",
       "      <td>['news', 'sander', 'warren', 'colleague', 'int...</td>\n",
       "    </tr>\n",
       "    <tr>\n",
       "      <th>3</th>\n",
       "      <td>3</td>\n",
       "      <td>CommanderKiddie148</td>\n",
       "      <td>['republican', 'party', 'went', 'crazy', 'pgcc...</td>\n",
       "    </tr>\n",
       "    <tr>\n",
       "      <th>4</th>\n",
       "      <td>4</td>\n",
       "      <td>CQU617</td>\n",
       "      <td>['governor', 'jacket']</td>\n",
       "    </tr>\n",
       "  </tbody>\n",
       "</table>\n",
       "</div>"
      ],
      "text/plain": [
       "   Unnamed: 0              author  \\\n",
       "0           0           [deleted]   \n",
       "1           1        DownToeartgh   \n",
       "2           2             shallah   \n",
       "3           3  CommanderKiddie148   \n",
       "4           4              CQU617   \n",
       "\n",
       "                                            out_sent  \n",
       "0  ['republican', 'house', 'oversight', 'committe...  \n",
       "1  ['cbs', 'news', 'asked', 'kevin', 'mccarthy', ...  \n",
       "2  ['news', 'sander', 'warren', 'colleague', 'int...  \n",
       "3  ['republican', 'party', 'went', 'crazy', 'pgcc...  \n",
       "4                             ['governor', 'jacket']  "
      ]
     },
     "execution_count": 3,
     "metadata": {},
     "output_type": "execute_result"
    }
   ],
   "source": [
    "data = pd.read_csv('./data/utf8-lemma/dems_sents_p23.csv')\n",
    "data.head()\n"
   ]
  },
  {
   "cell_type": "code",
   "execution_count": 4,
   "metadata": {},
   "outputs": [],
   "source": [
    "\n",
    "#write data into correct format\n",
    "with open('leml.txt', 'w', encoding='utf-8') as f:\n",
    "    for sentence in data['out_sent']:\n",
    "        f.write(f\"{sentence}\\n\")"
   ]
  },
  {
   "cell_type": "code",
   "execution_count": 5,
   "metadata": {},
   "outputs": [
    {
     "name": "stderr",
     "output_type": "stream",
     "text": [
      "Read 0M words\n",
      "Number of words:  3412\n",
      "Number of labels: 0\n",
      "Progress: 100.0% words/sec/thread:   51585 lr:  0.000000 avg.loss:  3.966599 ETA:   0h 0m 0s\n"
     ]
    }
   ],
   "source": [
    "modell = fasttext.train_unsupervised(\"leml.txt\", model='skipgram', dim=50, ws=5, neg=20, epoch=5, minCount=5)\n",
    "#i would like to make function to track error per epoch\n"
   ]
  },
  {
   "cell_type": "code",
   "execution_count": 7,
   "metadata": {},
   "outputs": [
    {
     "name": "stdout",
     "output_type": "stream",
     "text": [
      "[ 0.06967245 -0.01120306 -0.20773761 -0.12701818  0.00392189  0.17753544\n",
      "  0.12958306  0.16838895  0.00508853 -0.01979848  0.04173386  0.07022496\n",
      "  0.00145878 -0.1511321  -0.10871922  0.09608122  0.13124736 -0.08932023\n",
      " -0.04405525 -0.02272656  0.07963687  0.13164955  0.11932258 -0.00270827\n",
      "  0.06483239 -0.03084597  0.14532977  0.09247891 -0.01860495 -0.03120666\n",
      " -0.02829671  0.07977466 -0.02912022  0.07839311 -0.02221119  0.0219174\n",
      "  0.00256984  0.01226886 -0.00843994 -0.02666415 -0.03062296  0.03859283\n",
      " -0.00418874  0.09013144 -0.03268562  0.06482032 -0.03967051 -0.08090437\n",
      " -0.01468461  0.05332207]\n"
     ]
    }
   ],
   "source": [
    "print(modell.get_word_vector('jacket'))"
   ]
  },
  {
   "cell_type": "code",
   "execution_count": 9,
   "metadata": {},
   "outputs": [
    {
     "name": "stderr",
     "output_type": "stream",
     "text": [
      "Read 0M words\n",
      "Number of words:  3412\n",
      "Number of labels: 0\n",
      "Progress: 100.0% words/sec/thread:   60699 lr:  0.000000 avg.loss:  3.940741 ETA:   0h 0m 0s\n"
     ]
    }
   ],
   "source": [
    "data = pd.read_csv('./data/utf8-lemma/dems_sents_p23.csv')\n",
    "\n",
    "with open('lemr.txt', 'w', encoding='utf-8') as f:\n",
    "    for sentence in data['out_sent']:\n",
    "        f.write(f\"{sentence}\\n\")\n",
    "\n",
    "modelr = fasttext.train_unsupervised(\"lemr.txt\", model='skipgram', dim=50, ws=5, neg=20, epoch=5, minCount=5)"
   ]
  },
  {
   "cell_type": "code",
   "execution_count": 13,
   "metadata": {},
   "outputs": [],
   "source": [
    "#find shared vocabulary\n",
    "vocab = list(set(modell.get_words()) & set(modelr.get_words()))\n",
    "\n",
    "# Extract vectors for each word in the shared vocabulary\n",
    "vecd = np.array([modell.get_word_vector(word) for word in vocab])\n",
    "vecr = np.array([modelr.get_word_vector(word) for word in vocab])\n",
    "\n",
    "vecd = normalize(vecd, norm='l2')\n",
    "vecr = normalize(vecr, norm='l2')"
   ]
  },
  {
   "cell_type": "code",
   "execution_count": 14,
   "metadata": {},
   "outputs": [],
   "source": [
    "#we use the orthogonal procrustes method to align our initial model for r_dems with r_rep\n",
    "R, _ = orthogonal_procrustes(vecd, vecr)\n",
    "vecl_aligned = vecd @ R\n",
    "\n",
    "# compute word cosine similarities\n",
    "cosine_similarities = np.array([1 - cosine(vec1, vec2) for vec1, vec2 in zip(vecl_aligned, vecr)])"
   ]
  },
  {
   "cell_type": "code",
   "execution_count": 15,
   "metadata": {},
   "outputs": [
    {
     "name": "stdout",
     "output_type": "stream",
     "text": [
      "Summary Statistics:\n",
      "Min: 0.9781\n",
      "1st_quartile: 0.9958\n",
      "Median: 0.9977\n",
      "Mean: 0.9969\n",
      "3rd_quartile: 0.9988\n",
      "Max: 0.9999\n"
     ]
    }
   ],
   "source": [
    "summary_stats = {\n",
    "    \"min\": np.min(cosine_similarities),\n",
    "    \"1st_quartile\": np.percentile(cosine_similarities, 25),\n",
    "    \"median\": np.median(cosine_similarities),\n",
    "    \"mean\": np.mean(cosine_similarities),\n",
    "    \"3rd_quartile\": np.percentile(cosine_similarities, 75),\n",
    "    \"max\": np.max(cosine_similarities)\n",
    "}\n",
    "\n",
    "print(\"Summary Statistics:\")\n",
    "for k, v in summary_stats.items():\n",
    "    print(f\"{k.capitalize()}: {v:.4f}\")\n"
   ]
  },
  {
   "cell_type": "code",
   "execution_count": 16,
   "metadata": {},
   "outputs": [
    {
     "name": "stdout",
     "output_type": "stream",
     "text": [
      "Word: 'jean',, Cosine Similarity: 0.9781414866447449\n",
      "Word: 'bill',, Cosine Similarity: 0.978484034538269\n",
      "Word: 'jan',, Cosine Similarity: 0.9787474274635315\n",
      "Word: 'jack',, Cosine Similarity: 0.9788922071456909\n",
      "Word: 'sen',, Cosine Similarity: 0.9788948893547058\n",
      "Word: 'carlson'], Cosine Similarity: 0.9789441823959351\n",
      "Word: 'care'], Cosine Similarity: 0.9794390201568604\n",
      "Word: 'carroll',, Cosine Similarity: 0.9800364375114441\n",
      "Word: 'count'], Cosine Similarity: 0.9800666570663452\n",
      "Word: 'medici',, Cosine Similarity: 0.9804770946502686\n"
     ]
    }
   ],
   "source": [
    "#find most disimilar words\n",
    "unsim_indices = np.argsort(cosine_similarities)[:10]\n",
    "unsim_words = [vocab[i] for i in unsim_indices]\n",
    "\n",
    "\n",
    "for word, score in zip(unsim_words, cosine_similarities[unsim_indices]):\n",
    "    print(f\"Word: {word}, Cosine Similarity: {score}\")"
   ]
  },
  {
   "cell_type": "code",
   "execution_count": null,
   "metadata": {},
   "outputs": [],
   "source": []
  }
 ],
 "metadata": {
  "kernelspec": {
   "display_name": "thesis_work",
   "language": "python",
   "name": "python3"
  },
  "language_info": {
   "codemirror_mode": {
    "name": "ipython",
    "version": 3
   },
   "file_extension": ".py",
   "mimetype": "text/x-python",
   "name": "python",
   "nbconvert_exporter": "python",
   "pygments_lexer": "ipython3",
   "version": "3.13.0"
  }
 },
 "nbformat": 4,
 "nbformat_minor": 2
}
